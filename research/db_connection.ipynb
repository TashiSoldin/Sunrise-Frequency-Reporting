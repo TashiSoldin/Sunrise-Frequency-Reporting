{
 "cells": [
  {
   "cell_type": "code",
   "execution_count": 132,
   "metadata": {},
   "outputs": [],
   "source": [
    "# ! pip install firebirdsql\n"
   ]
  },
  {
   "cell_type": "code",
   "execution_count": 133,
   "metadata": {},
   "outputs": [],
   "source": [
    "import os\n",
    "from dotenv import load_dotenv\n",
    "import firebirdsql\n",
    "import pandas as pd"
   ]
  },
  {
   "cell_type": "code",
   "execution_count": 134,
   "metadata": {},
   "outputs": [
    {
     "data": {
      "text/plain": [
       "True"
      ]
     },
     "execution_count": 134,
     "metadata": {},
     "output_type": "execute_result"
    }
   ],
   "source": [
    "load_dotenv()"
   ]
  },
  {
   "cell_type": "code",
   "execution_count": 135,
   "metadata": {},
   "outputs": [],
   "source": [
    "host = os.getenv(\"DB_HOST\")\n",
    "database = os.getenv(\"DB_NAME\")\n",
    "user = os.getenv(\"DB_USER\")\n",
    "password = os.getenv(\"DB_PASSWORD\")\n",
    "role = os.getenv(\"DB_ROLE\")"
   ]
  },
  {
   "cell_type": "code",
   "execution_count": 136,
   "metadata": {},
   "outputs": [],
   "source": [
    "conn = firebirdsql.connect(\n",
    "    host=host,\n",
    "    database=database,\n",
    "    user=user,\n",
    "    password=password,\n",
    "    role=role,\n",
    "    charset=\"latin1\",\n",
    "    use_unicode=True,\n",
    ")"
   ]
  },
  {
   "cell_type": "code",
   "execution_count": 137,
   "metadata": {},
   "outputs": [],
   "source": [
    "query = \"\"\"\n",
    "SELECT WAYDATE, WAYBILL, ACCNUM, REFERENCE, CUSTNAME, \n",
    "SERVICE, ORIGHUB, ORIGTOWN, DESTHUB, DESTTOWN, PIECES, \n",
    "CHARGEMASS, BOOKDATE, PODDATE, PODTIME, PODRECIPIENT, \n",
    "DUEDATE, PODIMGPRESENT, LASTEVENTHUB, LASTEVENTDATE \n",
    "FROM VIEW_WBANALYSE wba\n",
    "WHERE EXTRACT(YEAR FROM wba.WAYDATE) = 2024\n",
    "AND EXTRACT(MONTH FROM wba.WAYDATE) = 1;\n",
    "\"\"\""
   ]
  },
  {
   "cell_type": "code",
   "execution_count": 138,
   "metadata": {},
   "outputs": [],
   "source": [
    "cursor = conn.cursor()"
   ]
  },
  {
   "cell_type": "code",
   "execution_count": 139,
   "metadata": {},
   "outputs": [],
   "source": [
    "cursor.execute(query)\n",
    "rows = cursor.fetchall()\n",
    "column_names = [desc[0] for desc in cursor.description]"
   ]
  },
  {
   "cell_type": "code",
   "execution_count": 140,
   "metadata": {},
   "outputs": [
    {
     "data": {
      "text/plain": [
       "['WAYDATE',\n",
       " 'WAYBILL',\n",
       " 'ACCNUM',\n",
       " 'REFERENCE',\n",
       " 'CUSTNAME',\n",
       " 'SERVICE',\n",
       " 'ORIGHUB',\n",
       " 'ORIGTOWN',\n",
       " 'DESTHUB',\n",
       " 'DESTTOWN',\n",
       " 'PIECES',\n",
       " 'CHARGEMASS',\n",
       " 'BOOKDATE',\n",
       " 'PODDATE',\n",
       " 'PODTIME',\n",
       " 'PODRECIPIENT',\n",
       " 'DUEDATE',\n",
       " 'PODIMGPRESENT',\n",
       " 'LASTEVENTHUB',\n",
       " 'LASTEVENTDATE']"
      ]
     },
     "execution_count": 140,
     "metadata": {},
     "output_type": "execute_result"
    }
   ],
   "source": [
    "column_names"
   ]
  },
  {
   "cell_type": "code",
   "execution_count": 141,
   "metadata": {},
   "outputs": [],
   "source": [
    "df = pd.DataFrame(rows, columns=column_names)"
   ]
  },
  {
   "cell_type": "code",
   "execution_count": 142,
   "metadata": {},
   "outputs": [],
   "source": [
    "cursor.close()\n",
    "conn.close()"
   ]
  }
 ],
 "metadata": {
  "kernelspec": {
   "display_name": "Python 3",
   "language": "python",
   "name": "python3"
  },
  "language_info": {
   "codemirror_mode": {
    "name": "ipython",
    "version": 3
   },
   "file_extension": ".py",
   "mimetype": "text/x-python",
   "name": "python",
   "nbconvert_exporter": "python",
   "pygments_lexer": "ipython3",
   "version": "3.10.2"
  }
 },
 "nbformat": 4,
 "nbformat_minor": 2
}
