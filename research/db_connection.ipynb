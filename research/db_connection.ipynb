{
 "cells": [
  {
   "cell_type": "code",
   "execution_count": 104,
   "metadata": {},
   "outputs": [],
   "source": [
    "# ! pip install firebirdsql\n"
   ]
  },
  {
   "cell_type": "code",
   "execution_count": 105,
   "metadata": {},
   "outputs": [],
   "source": [
    "import os\n",
    "from dotenv import load_dotenv\n",
    "import firebirdsql\n",
    "import pandas as pd"
   ]
  },
  {
   "cell_type": "code",
   "execution_count": 106,
   "metadata": {},
   "outputs": [
    {
     "data": {
      "text/plain": [
       "True"
      ]
     },
     "execution_count": 106,
     "metadata": {},
     "output_type": "execute_result"
    }
   ],
   "source": [
    "load_dotenv()"
   ]
  },
  {
   "cell_type": "code",
   "execution_count": 107,
   "metadata": {},
   "outputs": [],
   "source": [
    "host = os.getenv(\"DB_HOST\")\n",
    "database = os.getenv(\"DB_NAME\")\n",
    "user = os.getenv(\"DB_USER\")\n",
    "password = os.getenv(\"DB_PASSWORD\")\n",
    "role = os.getenv(\"DB_ROLE\")"
   ]
  },
  {
   "cell_type": "code",
   "execution_count": 108,
   "metadata": {},
   "outputs": [],
   "source": [
    "conn = firebirdsql.connect(\n",
    "    host=host,\n",
    "    database=database,\n",
    "    user=user,\n",
    "    password=password,\n",
    "    role=role,\n",
    "    charset=\"latin1\",\n",
    "    use_unicode=True,\n",
    ")"
   ]
  },
  {
   "cell_type": "code",
   "execution_count": 109,
   "metadata": {},
   "outputs": [],
   "source": [
    "query = \"\"\"\n",
    "SELECT wba.* FROM VIEW_WBANALYSE wba\n",
    "WHERE EXTRACT(YEAR FROM wba.CAPTUREDATE) = 2024\n",
    "AND EXTRACT(MONTH FROM wba.CAPTUREDATE) = 1\n",
    "\"\"\""
   ]
  },
  {
   "cell_type": "code",
   "execution_count": 110,
   "metadata": {},
   "outputs": [],
   "source": [
    "cursor = conn.cursor()"
   ]
  },
  {
   "cell_type": "code",
   "execution_count": 111,
   "metadata": {},
   "outputs": [],
   "source": [
    "cursor.execute(query)\n",
    "rows = cursor.fetchall()\n",
    "column_names = [desc[0] for desc in cursor.description]"
   ]
  },
  {
   "cell_type": "code",
   "execution_count": 112,
   "metadata": {},
   "outputs": [
    {
     "data": {
      "text/plain": [
       "['WAYBILL',\n",
       " 'WAYBILLORIG',\n",
       " 'WAYDATE',\n",
       " 'QUOTEDATE',\n",
       " 'CAPTUREDATE',\n",
       " 'ACCNUM',\n",
       " 'CUSTNAME',\n",
       " 'CCNAME',\n",
       " 'REP',\n",
       " 'REPNAME',\n",
       " 'CUSTCURRENCY',\n",
       " 'CUSTGROUP',\n",
       " 'REFERENCE',\n",
       " 'SERVICE',\n",
       " 'BRANCHNAME',\n",
       " 'COSTCNTRNAME',\n",
       " 'COMPANY',\n",
       " 'INHOUSENAME',\n",
       " 'SPECINSTRUCTION',\n",
       " 'INPUTMETHOD',\n",
       " 'NOTEPRESENT',\n",
       " 'ORIGPERS',\n",
       " 'ORIGPERADD1',\n",
       " 'ORIGPERADD2',\n",
       " 'ORIGPERADD3',\n",
       " 'ORIGPERADD4',\n",
       " 'ORIGTOWN',\n",
       " 'ORIGPERPCODE',\n",
       " 'ORIGRING',\n",
       " 'ORIGPERCONTACT',\n",
       " 'ORIGPERPHONE',\n",
       " 'ORIGHUB',\n",
       " 'ORIGOPSHUB',\n",
       " 'ORIGAREANAME',\n",
       " 'DESTPERS',\n",
       " 'DESTPERADD1',\n",
       " 'DESTPERADD2',\n",
       " 'DESTPERADD3',\n",
       " 'DESTPERADD4',\n",
       " 'DESTTOWN',\n",
       " 'DESTPERPCODE',\n",
       " 'DESTRING',\n",
       " 'DESTPERCONTACT',\n",
       " 'DESTPERPHONE',\n",
       " 'DESTHUB',\n",
       " 'DESTOPSHUB',\n",
       " 'DESTAREANAME',\n",
       " 'SPECQUOTEFLAG',\n",
       " 'ACTKG',\n",
       " 'CHARGEUNIT',\n",
       " 'CHARGEMASS',\n",
       " 'PIECES',\n",
       " 'VOLRATE',\n",
       " 'VOLCM',\n",
       " 'SURCHARGE1',\n",
       " 'SURCHARGE2',\n",
       " 'SURCHARGE3',\n",
       " 'SURCHARGE4',\n",
       " 'SURCHARGE5',\n",
       " 'SURCHARGE6',\n",
       " 'SURCHARGE7',\n",
       " 'SURCHARGE8',\n",
       " 'SURCHARGE9',\n",
       " 'INSURANCEFLAG',\n",
       " 'INSURANCEDESCRIPTION',\n",
       " 'INSURANCE',\n",
       " 'NONDOCS',\n",
       " 'NONDOXFLAG',\n",
       " 'DOCS',\n",
       " 'HANDLING',\n",
       " 'SPECIALSURCH',\n",
       " 'CARTAGE',\n",
       " 'OUTLY',\n",
       " 'SUBTOTAL',\n",
       " 'CURRENCYSUBTOTAL',\n",
       " 'VAT',\n",
       " 'TOTAL',\n",
       " 'DECLAREDVALUE',\n",
       " 'CUSTOMSVALUE',\n",
       " 'INVOICE',\n",
       " 'INVDATE',\n",
       " 'VATTYPE',\n",
       " 'VATDESCRIPTION',\n",
       " 'CUSTOMSDUTIES',\n",
       " 'CUSTOMSVAT',\n",
       " 'CURRATE',\n",
       " 'CURRENCY',\n",
       " 'MINSHIPFLAG',\n",
       " 'DUALCOST',\n",
       " 'DUEDATE',\n",
       " 'DUETIME',\n",
       " 'EARLYDELTIME',\n",
       " 'PODDISCREPANCY',\n",
       " 'PODDATE',\n",
       " 'PODTIME',\n",
       " 'PODRECIPIENT',\n",
       " 'PODBATCH',\n",
       " 'PODGROUP',\n",
       " 'PODDETAILS',\n",
       " 'DELIVERYAGENT',\n",
       " 'PODCAPTUREDATE',\n",
       " 'PODCAPTURETIME',\n",
       " 'FAILTYPE_DESC',\n",
       " 'ROUTING_FAILTYPE',\n",
       " 'FAILTYPE_CLASS',\n",
       " 'AGENTWAYBILL',\n",
       " 'BOOKDATE',\n",
       " 'BOOKSTARTTIME',\n",
       " 'BOOKENDTIME',\n",
       " 'LASTDELDATE',\n",
       " 'LASTDELDRIVER',\n",
       " 'LAST_FAILTYPE',\n",
       " 'PODPRESENT',\n",
       " 'EVENTNAME',\n",
       " 'LASTEVENTHUB',\n",
       " 'LASTEVENTDATE',\n",
       " 'LASTEVENTTIME',\n",
       " 'COLLECT',\n",
       " 'COLLECTIONDATE',\n",
       " 'COLSTATUS',\n",
       " 'COLLECTIONAGENT',\n",
       " 'FIRST_TT_AGENT',\n",
       " 'CUSTOMSGROUP',\n",
       " 'MANIFESTFAIL',\n",
       " 'PIF',\n",
       " 'RECEIPT',\n",
       " 'RECEIPTUSER',\n",
       " 'WAYREF_FIRST',\n",
       " 'WAYREF_COUNT',\n",
       " 'IMAGEBATCH1',\n",
       " 'PODIMGPRESENT',\n",
       " 'PAGEEVENTBATCH',\n",
       " 'COLLECTIONSTATUS',\n",
       " 'STATUS']"
      ]
     },
     "execution_count": 112,
     "metadata": {},
     "output_type": "execute_result"
    }
   ],
   "source": [
    "column_names"
   ]
  },
  {
   "cell_type": "code",
   "execution_count": 113,
   "metadata": {},
   "outputs": [],
   "source": [
    "df = pd.DataFrame(rows, columns=column_names)"
   ]
  },
  {
   "cell_type": "code",
   "execution_count": 114,
   "metadata": {},
   "outputs": [],
   "source": [
    "cursor.close()\n",
    "conn.close()"
   ]
  }
 ],
 "metadata": {
  "kernelspec": {
   "display_name": "Python 3",
   "language": "python",
   "name": "python3"
  },
  "language_info": {
   "codemirror_mode": {
    "name": "ipython",
    "version": 3
   },
   "file_extension": ".py",
   "mimetype": "text/x-python",
   "name": "python",
   "nbconvert_exporter": "python",
   "pygments_lexer": "ipython3",
   "version": "3.10.2"
  }
 },
 "nbformat": 4,
 "nbformat_minor": 2
}
