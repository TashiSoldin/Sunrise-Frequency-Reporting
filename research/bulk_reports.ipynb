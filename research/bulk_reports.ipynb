{
 "cells": [
  {
   "cell_type": "code",
   "execution_count": 9,
   "metadata": {},
   "outputs": [],
   "source": [
    "from datetime import datetime, date, time\n",
    "from openpyxl import load_workbook\n",
    "from openpyxl import Workbook\n",
    "from openpyxl.drawing.image import Image\n",
    "from openpyxl.utils.dataframe import dataframe_to_rows\n",
    "from openpyxl.styles import Font, Border, Side\n",
    "import numpy as np\n",
    "import pandas as pd\n",
    "import os\n",
    "import re"
   ]
  },
  {
   "cell_type": "markdown",
   "metadata": {},
   "source": [
    "## Data ingestion"
   ]
  },
  {
   "cell_type": "code",
   "execution_count": 10,
   "metadata": {},
   "outputs": [],
   "source": [
    "file_path = '../data'\n",
    "file_name = 'FR Report 07 Nov 24 12h00..xlsx'\n",
    "\n",
    "file_path_bulk = '../data/bulk-reports'\n",
    "\n",
    "os.makedirs(file_path_bulk, exist_ok=True)"
   ]
  },
  {
   "cell_type": "code",
   "execution_count": 11,
   "metadata": {},
   "outputs": [],
   "source": [
    "df = pd.read_excel(os.path.join(file_path, file_name))"
   ]
  },
  {
   "cell_type": "code",
   "execution_count": 12,
   "metadata": {},
   "outputs": [
    {
     "data": {
      "text/plain": [
       "Index(['Customer', 'Account', 'Waybill Date', 'Waybill', 'Service',\n",
       "       'Reference', 'Shipper', 'Consignee', 'Delivery Agent', 'Orig Hub',\n",
       "       'Orig Place', 'Dest Hub', 'Dest Place', 'Pieces', 'Chrg Mass',\n",
       "       'Due Date', 'POD Recipient', 'POD Date', 'POD Time', 'SLA Transit Days',\n",
       "       'Booking Date', 'Last Event', 'Last Event Hub', 'Last Event Date',\n",
       "       'Last Event Time', 'Last Manual Event', 'Last Manual Event Date',\n",
       "       'Last Manual Event Time'],\n",
       "      dtype='object')"
      ]
     },
     "execution_count": 12,
     "metadata": {},
     "output_type": "execute_result"
    }
   ],
   "source": [
    "df.columns"
   ]
  },
  {
   "cell_type": "markdown",
   "metadata": {},
   "source": [
    "## Data cleaning"
   ]
  },
  {
   "cell_type": "code",
   "execution_count": 13,
   "metadata": {},
   "outputs": [],
   "source": [
    "def safe_to_datetime(x):\n",
    "    if pd.isna(x):\n",
    "        return pd.NaT\n",
    "    elif isinstance(x, (pd.Timestamp, np.datetime64, datetime)):\n",
    "        return pd.to_datetime(x)\n",
    "    elif isinstance(x, time):\n",
    "        return pd.to_datetime(datetime.combine(date.today(), x))\n",
    "    else:\n",
    "        try:\n",
    "            return pd.to_datetime(x)\n",
    "        except:\n",
    "            return pd.NaT"
   ]
  },
  {
   "cell_type": "code",
   "execution_count": 14,
   "metadata": {},
   "outputs": [],
   "source": [
    "date_columns = ['Due Date', 'Waybill Date', 'Last Event Date']\n",
    "for col in date_columns:\n",
    "    df[col] = df[col].apply(safe_to_datetime)"
   ]
  },
  {
   "cell_type": "markdown",
   "metadata": {},
   "source": [
    "## Data output"
   ]
  },
  {
   "cell_type": "code",
   "execution_count": 15,
   "metadata": {},
   "outputs": [],
   "source": [
    "# Sort the entire DataFrame by 'Last Event' and 'Waybill Date'\n",
    "df_sorted = df.sort_values(by=['Last Event', 'Waybill Date'], ascending=[True, False])\n",
    "\n",
    "# Split the DataFrame by Last Event\n",
    "df_not_pod = df_sorted[~df_sorted['Last Event'].isin([\"POD Details Captured\", \"POD Image Scanned\"])]\n",
    "df_pod = df_sorted[df_sorted['Last Event'].isin([\"POD Details Captured\", \"POD Image Scanned\"])]\n",
    "\n",
    "# Save to a single Excel file with two sheets: 'Current deliveries' and 'Completed deliveries'\n",
    "with pd.ExcelWriter(f'{file_path_bulk}/{file_name}') as writer:\n",
    "    df_not_pod.to_excel(writer, sheet_name='Current deliveries', index=False)\n",
    "    df_pod.to_excel(writer, sheet_name='Completed deliveries', index=False)\n"
   ]
  }
 ],
 "metadata": {
  "kernelspec": {
   "display_name": "base",
   "language": "python",
   "name": "python3"
  },
  "language_info": {
   "codemirror_mode": {
    "name": "ipython",
    "version": 3
   },
   "file_extension": ".py",
   "mimetype": "text/x-python",
   "name": "python",
   "nbconvert_exporter": "python",
   "pygments_lexer": "ipython3",
   "version": "3.9.13"
  }
 },
 "nbformat": 4,
 "nbformat_minor": 2
}
