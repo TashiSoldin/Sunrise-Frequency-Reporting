{
 "cells": [
  {
   "cell_type": "code",
   "execution_count": 80,
   "metadata": {},
   "outputs": [],
   "source": [
    "from datetime import datetime, date, time\n",
    "import numpy as np\n",
    "import pandas as pd\n",
    "import os"
   ]
  },
  {
   "cell_type": "markdown",
   "metadata": {},
   "source": [
    "## Data ingestion"
   ]
  },
  {
   "cell_type": "code",
   "execution_count": 81,
   "metadata": {},
   "outputs": [],
   "source": [
    "file_path = '../data'\n",
    "file_path_frequency = '../data/frequency-reports'\n",
    "file_path_booking = '../data/booking-reports'\n",
    "\n",
    "os.makedirs(file_path_frequency, exist_ok=True)\n",
    "os.makedirs(file_path_booking, exist_ok=True)"
   ]
  },
  {
   "cell_type": "code",
   "execution_count": 82,
   "metadata": {},
   "outputs": [],
   "source": [
    "df = pd.read_excel(f'{file_path}/FR Report 16 Oct 14h00..xlsx')"
   ]
  },
  {
   "cell_type": "code",
   "execution_count": 83,
   "metadata": {},
   "outputs": [
    {
     "data": {
      "text/plain": [
       "Index(['Waybill Date', 'Waybill', 'Account', 'Reference', 'Service', 'Shipper',\n",
       "       'Consignee', 'Orig Hub', 'Orig Place', 'Dest Hub', 'Dest Place',\n",
       "       'Pieces', 'Chrg Mass', 'Booking Date', 'POD Date', 'POD Time',\n",
       "       'POD Recipient', 'POD Image Present', 'SLA Transit Days', 'Due Date',\n",
       "       'Last Event', 'Last Event Date', 'Delivery Agent'],\n",
       "      dtype='object')"
      ]
     },
     "execution_count": 83,
     "metadata": {},
     "output_type": "execute_result"
    }
   ],
   "source": [
    "df.columns"
   ]
  },
  {
   "cell_type": "markdown",
   "metadata": {},
   "source": [
    "## Data cleaning"
   ]
  },
  {
   "cell_type": "code",
   "execution_count": 84,
   "metadata": {},
   "outputs": [],
   "source": [
    "def safe_to_datetime(x):\n",
    "    if pd.isna(x):\n",
    "        return pd.NaT\n",
    "    elif isinstance(x, (pd.Timestamp, np.datetime64, datetime)):\n",
    "        return pd.to_datetime(x)\n",
    "    elif isinstance(x, time):\n",
    "        return pd.to_datetime(datetime.combine(date.today(), x))\n",
    "    else:\n",
    "        try:\n",
    "            return pd.to_datetime(x)\n",
    "        except:\n",
    "            return pd.NaT"
   ]
  },
  {
   "cell_type": "code",
   "execution_count": 85,
   "metadata": {},
   "outputs": [],
   "source": [
    "date_columns = ['Due Date', 'Waybill Date', 'Last Event Date']\n",
    "for col in date_columns:\n",
    "    df[col] = df[col].apply(safe_to_datetime)"
   ]
  },
  {
   "cell_type": "markdown",
   "metadata": {},
   "source": [
    "## Data manipulation"
   ]
  },
  {
   "cell_type": "code",
   "execution_count": 86,
   "metadata": {},
   "outputs": [],
   "source": [
    "# Build rules based on other columns"
   ]
  },
  {
   "cell_type": "markdown",
   "metadata": {},
   "source": [
    "## Data output"
   ]
  },
  {
   "cell_type": "markdown",
   "metadata": {},
   "source": [
    "### Frequency reports"
   ]
  },
  {
   "cell_type": "code",
   "execution_count": 87,
   "metadata": {},
   "outputs": [],
   "source": [
    "account_list = df['Account'].unique()\n",
    "for account in account_list:\n",
    "    # Split the DataFrame by Account\n",
    "    df_account = df[df['Account'] == account]\n",
    "    df_account = df_account.sort_values(by=['Last Event', 'Waybill Date'], ascending=[True, False])\n",
    "\n",
    "    # Split the DataFrame by Last Event\n",
    "    df_not_pod = df_account[~df_account['Last Event'].isin([\"POD Details Captured\", \"POD Image Scanned\"])]\n",
    "    df_pod = df_account[df_account['Last Event'].isin([\"POD Details Captured\", \"POD Image Scanned\"])]\n",
    "\n",
    "    # Save to Excel file with multiple sheets\n",
    "    with pd.ExcelWriter(f'{file_path_frequency}/{account}.xlsx') as writer:\n",
    "        df_not_pod.to_excel(writer, sheet_name='Current deliveries', index=False)\n",
    "        df_pod.to_excel(writer, sheet_name='Completed deliveries', index=False)"
   ]
  },
  {
   "cell_type": "markdown",
   "metadata": {},
   "source": [
    "### Booking reports"
   ]
  },
  {
   "cell_type": "code",
   "execution_count": 89,
   "metadata": {},
   "outputs": [],
   "source": [
    "location_hub_list = df['Dest Hub'].unique()\n",
    "\n",
    "# Sort the DataFrame by 'Booking Date' column\n",
    "df_booking_date = df.sort_values(by='Booking Date', ascending=True)\n",
    "\n",
    "# Create an Excel writer object\n",
    "with pd.ExcelWriter(f'{file_path_booking}/Booking Report.xlsx', engine='openpyxl') as writer:\n",
    "    # Group the DataFrame by 'Dest Hub' and write each group to a separate sheet\n",
    "    for category, group in df_booking_date.groupby('Dest Hub'):\n",
    "        group.to_excel(writer, sheet_name=category, index=False)"
   ]
  }
 ],
 "metadata": {
  "kernelspec": {
   "display_name": "Python 3",
   "language": "python",
   "name": "python3"
  },
  "language_info": {
   "codemirror_mode": {
    "name": "ipython",
    "version": 3
   },
   "file_extension": ".py",
   "mimetype": "text/x-python",
   "name": "python",
   "nbconvert_exporter": "python",
   "pygments_lexer": "ipython3",
   "version": "3.10.2"
  }
 },
 "nbformat": 4,
 "nbformat_minor": 2
}
