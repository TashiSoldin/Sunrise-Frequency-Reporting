{
 "cells": [
  {
   "cell_type": "code",
   "execution_count": 126,
   "metadata": {},
   "outputs": [],
   "source": [
    "from datetime import datetime, date, time\n",
    "import numpy as np\n",
    "import pandas as pd\n",
    "import os\n",
    "import re"
   ]
  },
  {
   "cell_type": "markdown",
   "metadata": {},
   "source": [
    "## Data ingestion"
   ]
  },
  {
   "cell_type": "code",
   "execution_count": 128,
   "metadata": {},
   "outputs": [],
   "source": [
    "file_path = '../data'\n",
    "file_name = 'Non Delivered 1Aug-1Nov24..xlsx'\n",
    "\n",
    "time_str, time_match = pd.Timestamp.now().strftime(\"%Hh%M\"), re.search(r'(\\d{2})h(\\d{2})', file_name)\n",
    "if time_match:\n",
    "    hour, minute = time_match.groups()\n",
    "    time_str = f'{hour}h{minute}'\n",
    "\n",
    "file_path_frequency = f'../data/frequency-reports-{pd.Timestamp.now().strftime(\"%Y-%m-%d\")} {time_str}'\n",
    "file_path_booking = '../data/booking-reports'\n",
    "\n",
    "os.makedirs(file_path_frequency, exist_ok=True)\n",
    "os.makedirs(file_path_booking, exist_ok=True)"
   ]
  },
  {
   "cell_type": "code",
   "execution_count": 129,
   "metadata": {},
   "outputs": [],
   "source": [
    "df = pd.read_excel(os.path.join(file_path, file_name))"
   ]
  },
  {
   "cell_type": "code",
   "execution_count": 130,
   "metadata": {},
   "outputs": [
    {
     "data": {
      "text/plain": [
       "Index(['Account', 'Waybill', 'Waybill Date', 'Service', 'Reference', 'Shipper',\n",
       "       'Consignee', 'Orig Hub', 'Orig Place', 'Dest Hub', 'Dest Place',\n",
       "       'Pieces', 'Chrg Mass', 'Due Date', 'POD Recipient', 'POD Date',\n",
       "       'POD Time', 'Booking Date', 'SLA Transit Days', 'POD Image Present',\n",
       "       'Last Event', 'Last Event Date', 'Delivery Agent'],\n",
       "      dtype='object')"
      ]
     },
     "execution_count": 130,
     "metadata": {},
     "output_type": "execute_result"
    }
   ],
   "source": [
    "df.columns"
   ]
  },
  {
   "cell_type": "markdown",
   "metadata": {},
   "source": [
    "## Data cleaning"
   ]
  },
  {
   "cell_type": "code",
   "execution_count": 131,
   "metadata": {},
   "outputs": [],
   "source": [
    "def safe_to_datetime(x):\n",
    "    if pd.isna(x):\n",
    "        return pd.NaT\n",
    "    elif isinstance(x, (pd.Timestamp, np.datetime64, datetime)):\n",
    "        return pd.to_datetime(x)\n",
    "    elif isinstance(x, time):\n",
    "        return pd.to_datetime(datetime.combine(date.today(), x))\n",
    "    else:\n",
    "        try:\n",
    "            return pd.to_datetime(x)\n",
    "        except Exception:\n",
    "            return pd.NaT"
   ]
  },
  {
   "cell_type": "code",
   "execution_count": 132,
   "metadata": {},
   "outputs": [],
   "source": [
    "date_columns = ['Due Date', 'Waybill Date', 'Last Event Date']\n",
    "for col in date_columns:\n",
    "    df[col] = df[col].apply(safe_to_datetime)"
   ]
  },
  {
   "cell_type": "markdown",
   "metadata": {},
   "source": [
    "## Data manipulation"
   ]
  },
  {
   "cell_type": "code",
   "execution_count": 87,
   "metadata": {},
   "outputs": [],
   "source": [
    "# Build rules based on other columns"
   ]
  },
  {
   "cell_type": "markdown",
   "metadata": {},
   "source": [
    "## Data output"
   ]
  },
  {
   "cell_type": "markdown",
   "metadata": {},
   "source": [
    "### Frequency reports"
   ]
  },
  {
   "cell_type": "code",
   "execution_count": 8,
   "metadata": {},
   "outputs": [],
   "source": [
    "account_list = df['Account'].unique()\n",
    "for account in account_list:\n",
    "    # Split the DataFrame by Account\n",
    "    df_account = df[df['Account'] == account]\n",
    "    df_account = df_account.sort_values(by=['Last Event', 'Waybill Date'], ascending=[True, False])\n",
    "\n",
    "    # Split the DataFrame by Last Event\n",
    "    df_not_pod = df_account[~df_account['Last Event'].isin([\"POD Details Captured\", \"POD Image Scanned\"])]\n",
    "    df_pod = df_account[df_account['Last Event'].isin([\"POD Details Captured\", \"POD Image Scanned\"])]\n",
    "\n",
    "    # Save to Excel file with multiple sheets\n",
    "    with pd.ExcelWriter(f'{file_path_frequency}/{account}.xlsx') as writer:\n",
    "        df_not_pod.to_excel(writer, sheet_name='Current deliveries', index=False)\n",
    "        df_pod.to_excel(writer, sheet_name='Completed deliveries', index=False)"
   ]
  },
  {
   "cell_type": "code",
   "execution_count": 134,
   "metadata": {},
   "outputs": [],
   "source": [
    "# Use for backlog reports that do not need to be split by account but still need frequency report processing\n",
    "\n",
    "# Assuming `df` is already defined and contains the necessary data\n",
    "# Sort the entire DataFrame by 'Last Event' and 'Waybill Date'\n",
    "df_sorted = df.sort_values(by=['Last Event', 'Waybill Date'], ascending=[True, False])\n",
    "\n",
    "# Split the DataFrame by Last Event\n",
    "df_not_pod = df_sorted[~df_sorted['Last Event'].isin([\"POD Details Captured\", \"POD Image Scanned\"])]\n",
    "df_pod = df_sorted[df_sorted['Last Event'].isin([\"POD Details Captured\", \"POD Image Scanned\"])]\n",
    "\n",
    "# Save to a single Excel file with two sheets: 'Current deliveries' and 'Completed deliveries'\n",
    "with pd.ExcelWriter(f'{file_path_frequency}/{file_name}') as writer:\n",
    "    df_not_pod.to_excel(writer, sheet_name='Current deliveries', index=False)\n",
    "    df_pod.to_excel(writer, sheet_name='Completed deliveries', index=False)\n"
   ]
  },
  {
   "cell_type": "markdown",
   "metadata": {},
   "source": [
    "### Booking reports"
   ]
  },
  {
   "cell_type": "code",
   "execution_count": 9,
   "metadata": {},
   "outputs": [],
   "source": [
    "location_hub_list = df['Dest Hub'].unique()\n",
    "\n",
    "# Sort the DataFrame by 'Booking Date' column\n",
    "df_booking_date = df.sort_values(by='Booking Date', ascending=True)\n",
    "\n",
    "# Create an Excel writer object\n",
    "with pd.ExcelWriter(f'{file_path_booking}/booking-report-{pd.Timestamp.now().strftime(\"%Y-%m-%d\")}.xlsx', engine='openpyxl') as writer:\n",
    "    # Group the DataFrame by 'Dest Hub' and write each group to a separate sheet\n",
    "    for category, group in df_booking_date.groupby('Dest Hub'):\n",
    "        group.to_excel(writer, sheet_name=category, index=False)"
   ]
  }
 ],
 "metadata": {
  "kernelspec": {
   "display_name": "Python 3",
   "language": "python",
   "name": "python3"
  },
  "language_info": {
   "codemirror_mode": {
    "name": "ipython",
    "version": 3
   },
   "file_extension": ".py",
   "mimetype": "text/x-python",
   "name": "python",
   "nbconvert_exporter": "python",
   "pygments_lexer": "ipython3",
   "version": "3.13.0"
  }
 },
 "nbformat": 4,
 "nbformat_minor": 2
}
