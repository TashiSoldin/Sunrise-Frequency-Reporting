{
 "cells": [
  {
   "cell_type": "code",
   "execution_count": 2,
   "metadata": {},
   "outputs": [],
   "source": [
    "from datetime import datetime, date, time\n",
    "import numpy as np\n",
    "import pandas as pd"
   ]
  },
  {
   "cell_type": "markdown",
   "metadata": {},
   "source": [
    "## Data ingestion"
   ]
  },
  {
   "cell_type": "code",
   "execution_count": 3,
   "metadata": {},
   "outputs": [],
   "source": [
    "file_path = '../data'"
   ]
  },
  {
   "cell_type": "code",
   "execution_count": 4,
   "metadata": {},
   "outputs": [
    {
     "name": "stderr",
     "output_type": "stream",
     "text": [
      "/Library/Frameworks/Python.framework/Versions/3.10/lib/python3.10/site-packages/openpyxl/styles/stylesheet.py:237: UserWarning: Workbook contains no default style, apply openpyxl's default\n",
      "  warn(\"Workbook contains no default style, apply openpyxl's default\")\n"
     ]
    }
   ],
   "source": [
    "df = pd.read_excel(f'{file_path}/Shipment-Waybills-Oct24.xlsx')"
   ]
  },
  {
   "cell_type": "code",
   "execution_count": 6,
   "metadata": {},
   "outputs": [
    {
     "data": {
      "text/plain": [
       "Index(['Waybill Date', 'Waybill', 'Account', 'Shipper', 'Consignee',\n",
       "       'Orig Hub', 'Orig Place', 'Dest Hub', 'Dest Place', 'Pieces', 'Service',\n",
       "       'Chrg Mass', 'Booking Date', 'Actual Transit Days', 'POD Date',\n",
       "       'POD Recipient', 'SLA Transit Days', 'Due Date', 'Last Event',\n",
       "       'Last Event Date'],\n",
       "      dtype='object')"
      ]
     },
     "execution_count": 6,
     "metadata": {},
     "output_type": "execute_result"
    }
   ],
   "source": [
    "df.columns"
   ]
  },
  {
   "cell_type": "markdown",
   "metadata": {},
   "source": [
    "## Data cleaning"
   ]
  },
  {
   "cell_type": "code",
   "execution_count": 7,
   "metadata": {},
   "outputs": [],
   "source": [
    "def safe_to_datetime(x):\n",
    "    if pd.isna(x):\n",
    "        return pd.NaT\n",
    "    elif isinstance(x, (pd.Timestamp, np.datetime64, datetime)):\n",
    "        return pd.to_datetime(x)\n",
    "    elif isinstance(x, time):\n",
    "        return pd.to_datetime(datetime.combine(date.today(), x))\n",
    "    else:\n",
    "        try:\n",
    "            return pd.to_datetime(x)\n",
    "        except:\n",
    "            return pd.NaT"
   ]
  },
  {
   "cell_type": "code",
   "execution_count": 8,
   "metadata": {},
   "outputs": [],
   "source": [
    "date_columns = ['Due Date', 'Waybill Date', 'Last Event Date']\n",
    "for col in date_columns:\n",
    "    df[col] = df[col].apply(safe_to_datetime)"
   ]
  },
  {
   "cell_type": "markdown",
   "metadata": {},
   "source": [
    "## Data manipulation"
   ]
  },
  {
   "cell_type": "code",
   "execution_count": 9,
   "metadata": {},
   "outputs": [],
   "source": [
    "# Build rules based on other columns"
   ]
  },
  {
   "cell_type": "markdown",
   "metadata": {},
   "source": [
    "## Data output"
   ]
  },
  {
   "cell_type": "code",
   "execution_count": 11,
   "metadata": {},
   "outputs": [],
   "source": [
    "account_list = df['Account'].unique()\n",
    "for account in account_list:\n",
    "    df_account = df[df['Account'] == account]\n",
    "    df_account = df_account.sort_values(by=['Last Event', 'Waybill Date'], ascending=[True, False])\n",
    "\n",
    "    date_columns = ['Due Date', 'Last Event Date', 'Waybill Date']\n",
    "    for col in date_columns:\n",
    "        df_account[col] = df_account[col].dt.strftime('%Y-%m-%d')\n",
    "\n",
    "    df_account.to_excel(f'{file_path}/output/{account}.xlsx', index=False)"
   ]
  }
 ],
 "metadata": {
  "kernelspec": {
   "display_name": "Python 3",
   "language": "python",
   "name": "python3"
  },
  "language_info": {
   "codemirror_mode": {
    "name": "ipython",
    "version": 3
   },
   "file_extension": ".py",
   "mimetype": "text/x-python",
   "name": "python",
   "nbconvert_exporter": "python",
   "pygments_lexer": "ipython3",
   "version": "3.10.2"
  }
 },
 "nbformat": 4,
 "nbformat_minor": 2
}
