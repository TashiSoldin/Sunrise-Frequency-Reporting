{
 "cells": [
  {
   "cell_type": "code",
   "execution_count": 7,
   "metadata": {},
   "outputs": [],
   "source": [
    "from datetime import datetime, date, time\n",
    "from openpyxl import load_workbook\n",
    "from openpyxl import Workbook\n",
    "from openpyxl.drawing.image import Image\n",
    "from openpyxl.utils.dataframe import dataframe_to_rows\n",
    "from openpyxl.styles import Font, Border, Side\n",
    "import numpy as np\n",
    "import pandas as pd\n",
    "import os\n",
    "import re"
   ]
  },
  {
   "cell_type": "markdown",
   "metadata": {},
   "source": [
    "## Data ingestion"
   ]
  },
  {
   "cell_type": "code",
   "execution_count": 8,
   "metadata": {},
   "outputs": [],
   "source": [
    "file_path = '../data'\n",
    "file_name = 'FR Report 25 Oct 12h00.xlsx'\n",
    "\n",
    "time_str, time_match = pd.Timestamp.now().strftime(\"%Hh%M\"), re.search(r'(\\d{2})h(\\d{2})', file_name)\n",
    "if time_match:\n",
    "    hour, minute = time_match.groups()\n",
    "    time_str = f'{hour}h{minute}'\n",
    "\n",
    "file_path_frequency = f'../data/frequency-reports-{pd.Timestamp.now().strftime(\"%Y-%m-%d\")} {time_str}'\n",
    "os.makedirs(file_path_frequency, exist_ok=True)"
   ]
  },
  {
   "cell_type": "code",
   "execution_count": 9,
   "metadata": {},
   "outputs": [],
   "source": [
    "df = pd.read_excel(os.path.join(file_path, file_name))"
   ]
  },
  {
   "cell_type": "code",
   "execution_count": 10,
   "metadata": {},
   "outputs": [
    {
     "data": {
      "text/plain": [
       "Index(['Account', 'Waybill Date', 'Waybill', 'Reference', 'Service', 'Shipper',\n",
       "       'Consignee', 'Orig Hub', 'Orig Place', 'Dest Hub', 'Dest Place',\n",
       "       'Pieces', 'Chrg Mass', 'Due Date', 'POD Date', 'POD Time',\n",
       "       'SLA Transit Days', 'POD Recipient', 'Booking Date',\n",
       "       'POD Image Present', 'Delivery Agent', 'Last Event Hub', 'Last Event',\n",
       "       'Last Event Date', 'Last Event Time', 'Last Manual Event',\n",
       "       'Last Manual Event Date', 'Last Manual Event Time'],\n",
       "      dtype='object')"
      ]
     },
     "execution_count": 10,
     "metadata": {},
     "output_type": "execute_result"
    }
   ],
   "source": [
    "df.columns"
   ]
  },
  {
   "cell_type": "markdown",
   "metadata": {},
   "source": [
    "## Data cleaning"
   ]
  },
  {
   "cell_type": "code",
   "execution_count": 11,
   "metadata": {},
   "outputs": [],
   "source": [
    "def safe_to_datetime(x):\n",
    "    if pd.isna(x):\n",
    "        return pd.NaT\n",
    "    elif isinstance(x, (pd.Timestamp, np.datetime64, datetime)):\n",
    "        return pd.to_datetime(x)\n",
    "    elif isinstance(x, time):\n",
    "        return pd.to_datetime(datetime.combine(date.today(), x))\n",
    "    else:\n",
    "        try:\n",
    "            return pd.to_datetime(x)\n",
    "        except:\n",
    "            return pd.NaT"
   ]
  },
  {
   "cell_type": "code",
   "execution_count": 12,
   "metadata": {},
   "outputs": [],
   "source": [
    "date_columns = ['Due Date', 'Waybill Date', 'Last Event Date']\n",
    "for col in date_columns:\n",
    "    df[col] = df[col].apply(safe_to_datetime)"
   ]
  },
  {
   "cell_type": "markdown",
   "metadata": {},
   "source": [
    "## Data output"
   ]
  },
  {
   "cell_type": "code",
   "execution_count": 15,
   "metadata": {},
   "outputs": [
    {
     "ename": "FileNotFoundError",
     "evalue": "[Errno 2] No such file or directory: 'data/template/logo.png'",
     "output_type": "error",
     "traceback": [
      "\u001b[0;31m---------------------------------------------------------------------------\u001b[0m",
      "\u001b[0;31mFileNotFoundError\u001b[0m                         Traceback (most recent call last)",
      "\u001b[0;32m/var/folders/fz/xr7gzrtd5j12jcx7xtyjgyn00000gn/T/ipykernel_26163/67092412.py\u001b[0m in \u001b[0;36m<module>\u001b[0;34m\u001b[0m\n\u001b[1;32m     74\u001b[0m \u001b[0;34m\u001b[0m\u001b[0m\n\u001b[1;32m     75\u001b[0m     \u001b[0;31m# Call the function to create the Excel file with logo and heading\u001b[0m\u001b[0;34m\u001b[0m\u001b[0;34m\u001b[0m\u001b[0m\n\u001b[0;32m---> 76\u001b[0;31m     \u001b[0mcreate_excel_with_logo\u001b[0m\u001b[0;34m(\u001b[0m\u001b[0mdf_not_pod\u001b[0m\u001b[0;34m,\u001b[0m \u001b[0mdf_pod\u001b[0m\u001b[0;34m,\u001b[0m \u001b[0maccount\u001b[0m\u001b[0;34m,\u001b[0m \u001b[0mfile_path_frequency\u001b[0m\u001b[0;34m,\u001b[0m \u001b[0mlogo_path\u001b[0m\u001b[0;34m)\u001b[0m\u001b[0;34m\u001b[0m\u001b[0;34m\u001b[0m\u001b[0m\n\u001b[0m\u001b[1;32m     77\u001b[0m \u001b[0;34m\u001b[0m\u001b[0m\n",
      "\u001b[0;32m/var/folders/fz/xr7gzrtd5j12jcx7xtyjgyn00000gn/T/ipykernel_26163/67092412.py\u001b[0m in \u001b[0;36mcreate_excel_with_logo\u001b[0;34m(df_not_pod, df_pod, account, file_path_frequency, logo_path)\u001b[0m\n\u001b[1;32m     10\u001b[0m     \u001b[0;31m# Insert the logo\u001b[0m\u001b[0;34m\u001b[0m\u001b[0;34m\u001b[0m\u001b[0m\n\u001b[1;32m     11\u001b[0m     \u001b[0mws\u001b[0m\u001b[0;34m.\u001b[0m\u001b[0mmerge_cells\u001b[0m\u001b[0;34m(\u001b[0m\u001b[0;34m'A1:J11'\u001b[0m\u001b[0;34m)\u001b[0m\u001b[0;34m\u001b[0m\u001b[0;34m\u001b[0m\u001b[0m\n\u001b[0;32m---> 12\u001b[0;31m     \u001b[0mlogo\u001b[0m \u001b[0;34m=\u001b[0m \u001b[0mImage\u001b[0m\u001b[0;34m(\u001b[0m\u001b[0mlogo_path\u001b[0m\u001b[0;34m)\u001b[0m\u001b[0;34m\u001b[0m\u001b[0;34m\u001b[0m\u001b[0m\n\u001b[0m\u001b[1;32m     13\u001b[0m     \u001b[0mlogo\u001b[0m\u001b[0;34m.\u001b[0m\u001b[0mwidth\u001b[0m \u001b[0;34m=\u001b[0m \u001b[0;36m555\u001b[0m  \u001b[0;31m# Resize the logo (width in pixels)\u001b[0m\u001b[0;34m\u001b[0m\u001b[0;34m\u001b[0m\u001b[0m\n\u001b[1;32m     14\u001b[0m     \u001b[0mlogo\u001b[0m\u001b[0;34m.\u001b[0m\u001b[0mheight\u001b[0m \u001b[0;34m=\u001b[0m \u001b[0;36m184\u001b[0m  \u001b[0;31m# Resize the logo (height in pixels)\u001b[0m\u001b[0;34m\u001b[0m\u001b[0;34m\u001b[0m\u001b[0m\n",
      "\u001b[0;32m~/opt/anaconda3/lib/python3.9/site-packages/openpyxl/drawing/image.py\u001b[0m in \u001b[0;36m__init__\u001b[0;34m(self, img)\u001b[0m\n\u001b[1;32m     30\u001b[0m         \u001b[0mself\u001b[0m\u001b[0;34m.\u001b[0m\u001b[0mref\u001b[0m \u001b[0;34m=\u001b[0m \u001b[0mimg\u001b[0m\u001b[0;34m\u001b[0m\u001b[0;34m\u001b[0m\u001b[0m\n\u001b[1;32m     31\u001b[0m         \u001b[0mmark_to_close\u001b[0m \u001b[0;34m=\u001b[0m \u001b[0misinstance\u001b[0m\u001b[0;34m(\u001b[0m\u001b[0mimg\u001b[0m\u001b[0;34m,\u001b[0m \u001b[0mstr\u001b[0m\u001b[0;34m)\u001b[0m\u001b[0;34m\u001b[0m\u001b[0;34m\u001b[0m\u001b[0m\n\u001b[0;32m---> 32\u001b[0;31m         \u001b[0mimage\u001b[0m \u001b[0;34m=\u001b[0m \u001b[0m_import_image\u001b[0m\u001b[0;34m(\u001b[0m\u001b[0mimg\u001b[0m\u001b[0;34m)\u001b[0m\u001b[0;34m\u001b[0m\u001b[0;34m\u001b[0m\u001b[0m\n\u001b[0m\u001b[1;32m     33\u001b[0m         \u001b[0mself\u001b[0m\u001b[0;34m.\u001b[0m\u001b[0mwidth\u001b[0m\u001b[0;34m,\u001b[0m \u001b[0mself\u001b[0m\u001b[0;34m.\u001b[0m\u001b[0mheight\u001b[0m \u001b[0;34m=\u001b[0m \u001b[0mimage\u001b[0m\u001b[0;34m.\u001b[0m\u001b[0msize\u001b[0m\u001b[0;34m\u001b[0m\u001b[0;34m\u001b[0m\u001b[0m\n\u001b[1;32m     34\u001b[0m \u001b[0;34m\u001b[0m\u001b[0m\n",
      "\u001b[0;32m~/opt/anaconda3/lib/python3.9/site-packages/openpyxl/drawing/image.py\u001b[0m in \u001b[0;36m_import_image\u001b[0;34m(img)\u001b[0m\n\u001b[1;32m     14\u001b[0m \u001b[0;34m\u001b[0m\u001b[0m\n\u001b[1;32m     15\u001b[0m     \u001b[0;32mif\u001b[0m \u001b[0;32mnot\u001b[0m \u001b[0misinstance\u001b[0m\u001b[0;34m(\u001b[0m\u001b[0mimg\u001b[0m\u001b[0;34m,\u001b[0m \u001b[0mPILImage\u001b[0m\u001b[0;34m.\u001b[0m\u001b[0mImage\u001b[0m\u001b[0;34m)\u001b[0m\u001b[0;34m:\u001b[0m\u001b[0;34m\u001b[0m\u001b[0;34m\u001b[0m\u001b[0m\n\u001b[0;32m---> 16\u001b[0;31m         \u001b[0mimg\u001b[0m \u001b[0;34m=\u001b[0m \u001b[0mPILImage\u001b[0m\u001b[0;34m.\u001b[0m\u001b[0mopen\u001b[0m\u001b[0;34m(\u001b[0m\u001b[0mimg\u001b[0m\u001b[0;34m)\u001b[0m\u001b[0;34m\u001b[0m\u001b[0;34m\u001b[0m\u001b[0m\n\u001b[0m\u001b[1;32m     17\u001b[0m \u001b[0;34m\u001b[0m\u001b[0m\n\u001b[1;32m     18\u001b[0m     \u001b[0;32mreturn\u001b[0m \u001b[0mimg\u001b[0m\u001b[0;34m\u001b[0m\u001b[0;34m\u001b[0m\u001b[0m\n",
      "\u001b[0;32m~/opt/anaconda3/lib/python3.9/site-packages/PIL/Image.py\u001b[0m in \u001b[0;36mopen\u001b[0;34m(fp, mode, formats)\u001b[0m\n\u001b[1;32m   3090\u001b[0m \u001b[0;34m\u001b[0m\u001b[0m\n\u001b[1;32m   3091\u001b[0m     \u001b[0;32mif\u001b[0m \u001b[0mfilename\u001b[0m\u001b[0;34m:\u001b[0m\u001b[0;34m\u001b[0m\u001b[0;34m\u001b[0m\u001b[0m\n\u001b[0;32m-> 3092\u001b[0;31m         \u001b[0mfp\u001b[0m \u001b[0;34m=\u001b[0m \u001b[0mbuiltins\u001b[0m\u001b[0;34m.\u001b[0m\u001b[0mopen\u001b[0m\u001b[0;34m(\u001b[0m\u001b[0mfilename\u001b[0m\u001b[0;34m,\u001b[0m \u001b[0;34m\"rb\"\u001b[0m\u001b[0;34m)\u001b[0m\u001b[0;34m\u001b[0m\u001b[0;34m\u001b[0m\u001b[0m\n\u001b[0m\u001b[1;32m   3093\u001b[0m         \u001b[0mexclusive_fp\u001b[0m \u001b[0;34m=\u001b[0m \u001b[0;32mTrue\u001b[0m\u001b[0;34m\u001b[0m\u001b[0;34m\u001b[0m\u001b[0m\n\u001b[1;32m   3094\u001b[0m \u001b[0;34m\u001b[0m\u001b[0m\n",
      "\u001b[0;31mFileNotFoundError\u001b[0m: [Errno 2] No such file or directory: 'data/template/logo.png'"
     ]
    }
   ],
   "source": [
    "# Template Code\n",
    "\n",
    "# Function to create an Excel file from scratch with a logo and heading\n",
    "def create_excel_with_logo(df_not_pod, df_pod, account, file_path_frequency, logo_path):\n",
    "    # Create a workbook and add a worksheet\n",
    "    wb = Workbook()\n",
    "    ws = wb.active\n",
    "    ws.title = 'Current deliveries'\n",
    "    \n",
    "    # Insert the logo\n",
    "    ws.merge_cells('A1:J11')\n",
    "    logo = Image(logo_path)\n",
    "    logo.width = 555  # Resize the logo (width in pixels)\n",
    "    logo.height = 184  # Resize the logo (height in pixels)\n",
    "    logo.anchor = 'B2'  # Position the logo in the top-left corner (A1)\n",
    "    ws.add_image(logo)\n",
    "    \n",
    "    # Merge cells for the heading\n",
    "    ws.merge_cells('K6:M6')\n",
    "    ws['K6'] = 'FREQUENCY REPORT'  # Add the heading in the merged cell\n",
    "    ws['K6'].font = Font(size=14, bold=True) \n",
    "\n",
    "    # Create a border style\n",
    "    thin = Side(border_style=\"thin\", color=\"000000\")\n",
    "    border = Border(top=thin, left=thin, right=thin, bottom=thin)\n",
    "\n",
    "    # Add the table from the DataFrame (df_not_pod)\n",
    "    for r_idx, row in enumerate(dataframe_to_rows(df_not_pod, index=False, header=True), start=13):\n",
    "        for c_idx, value in enumerate(row, 1):\n",
    "            cell = ws.cell(row=r_idx, column=c_idx, value=value)\n",
    "            # Apply border to the headings (first row)\n",
    "            if r_idx == 13:  # First row of the table\n",
    "                cell.font = Font(bold=True)  # Make the font bold\n",
    "                cell.border = border  # Apply border to the headings\n",
    "\n",
    "    # Add a new sheet for completed deliveries\n",
    "    ws_pod = wb.create_sheet('Completed deliveries')\n",
    "\n",
    "    # Insert the same logo and heading in the second sheet\n",
    "    ws_pod.merge_cells('A1:J11')\n",
    "    logo2 = Image(logo_path)\n",
    "    logo2.width = 555  # Resize the logo (width in pixels)\n",
    "    logo2.height = 184  # Resize the logo (height in pixels)\n",
    "    logo2.anchor = 'B2'\n",
    "    ws_pod.add_image(logo2)\n",
    "    \n",
    "    ws_pod.merge_cells('K6:M6')\n",
    "    ws_pod['K6'] = 'FREQUENCY REPORT'  # Add the heading in the merged cell\n",
    "    ws_pod['K6'].font = Font(size=14, bold=True) \n",
    "\n",
    "    # Add the table from df_pod to the second sheet\n",
    "    for r_idx, row in enumerate(dataframe_to_rows(df_pod, index=False, header=True), start=13):\n",
    "        for c_idx, value in enumerate(row, 1):\n",
    "            cell = ws_pod.cell(row=r_idx, column=c_idx, value=value)\n",
    "            # Apply border to the headings (first row)\n",
    "            if r_idx == 13:  # First row of the table\n",
    "                cell.font = Font(bold=True)  # Make the font bold\n",
    "                cell.border = border  # Apply border to the headings\n",
    "\n",
    "    # Save the workbook to the file path\n",
    "    wb.save(f'{file_path_frequency}/{account}.xlsx')\n",
    "\n",
    "# Example usage\n",
    "account_list = df['Account'].unique()\n",
    "logo_path = '../data/template/logo.png'  # Specify the path to your logo image\n",
    "for account in account_list:\n",
    "    # Split the DataFrame by Account\n",
    "    df_account = df[df['Account'] == account]\n",
    "    df_account = df_account.sort_values(by=['Last Event', 'Waybill Date'], ascending=[True, False])\n",
    "\n",
    "    # Split the DataFrame by Last Event\n",
    "    df_not_pod = df_account[~df_account['Last Event'].isin([\"POD Details Captured\", \"POD Image Scanned\"])]\n",
    "    df_pod = df_account[df_account['Last Event'].isin([\"POD Details Captured\", \"POD Image Scanned\"])]\n",
    "\n",
    "    # Call the function to create the Excel file with logo and heading\n",
    "    create_excel_with_logo(df_not_pod, df_pod, account, file_path_frequency, logo_path)\n",
    "\n"
   ]
  }
 ],
 "metadata": {
  "kernelspec": {
   "display_name": "base",
   "language": "python",
   "name": "python3"
  },
  "language_info": {
   "codemirror_mode": {
    "name": "ipython",
    "version": 3
   },
   "file_extension": ".py",
   "mimetype": "text/x-python",
   "name": "python",
   "nbconvert_exporter": "python",
   "pygments_lexer": "ipython3",
   "version": "3.9.13"
  }
 },
 "nbformat": 4,
 "nbformat_minor": 2
}
