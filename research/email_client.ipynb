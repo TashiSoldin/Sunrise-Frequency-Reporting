{
 "cells": [
  {
   "cell_type": "code",
   "execution_count": 2,
   "metadata": {},
   "outputs": [],
   "source": [
    "import os\n",
    "from datetime import datetime\n",
    "from dotenv import load_dotenv\n",
    "from email.mime.text import MIMEText\n",
    "from email.mime.multipart import MIMEMultipart\n",
    "from email.mime.application import MIMEApplication\n",
    "import smtplib\n",
    "from tqdm import tqdm\n",
    "from typing import Optional"
   ]
  },
  {
   "cell_type": "code",
   "execution_count": 3,
   "metadata": {},
   "outputs": [
    {
     "data": {
      "text/plain": [
       "True"
      ]
     },
     "execution_count": 3,
     "metadata": {},
     "output_type": "execute_result"
    }
   ],
   "source": [
    "load_dotenv()"
   ]
  },
  {
   "cell_type": "code",
   "execution_count": 4,
   "metadata": {},
   "outputs": [],
   "source": [
    "sender_email = os.getenv(\"SENDER_EMAIL_ADDRESS\")\n",
    "sender_password = os.getenv(\"SENDER_EMAIL_PASSWORD\")"
   ]
  },
  {
   "cell_type": "code",
   "execution_count": 5,
   "metadata": {},
   "outputs": [],
   "source": [
    "class OutlookEmailClient:\n",
    "    def __init__(\n",
    "        self,\n",
    "        sender_email: str,\n",
    "        sender_password: str,\n",
    "        smtp_server: str = \"smtp-mail.outlook.com\",\n",
    "        smtp_port: int = 587,\n",
    "    ) -> None:\n",
    "        self.sender_email = sender_email\n",
    "        self.sender_password = sender_password\n",
    "        self.smtp_server = smtp_server\n",
    "        self.smtp_port = smtp_port\n",
    "\n",
    "    def __enter__(self):\n",
    "        self.connection = self._create_connection()\n",
    "        return self\n",
    "\n",
    "    def __exit__(self, exc_type, exc_val, exc_tb) -> None:\n",
    "        self.connection.close()\n",
    "\n",
    "    def _create_connection(self) -> smtplib.SMTP:\n",
    "        server = smtplib.SMTP(self.smtp_server, self.smtp_port)\n",
    "        server.starttls()\n",
    "        server.login(self.sender_email, self.sender_password)\n",
    "        return server\n",
    "\n",
    "    def send_email(\n",
    "        self,\n",
    "        recipient_email: str,\n",
    "        cc_recipients: list[str],\n",
    "        subject: str,\n",
    "        body: str,\n",
    "        attachments: Optional[list[str]] = None,\n",
    "    ) -> None:\n",
    "        \"\"\"\n",
    "        Send a single email with optional attachments.\n",
    "\n",
    "        Args:\n",
    "            recipient_email (str): Email address of the recipient\n",
    "            subject (str): Email subject line\n",
    "            body (str): Email body content\n",
    "            attachments (list[str], optional): List of file paths to attach\n",
    "        \"\"\"\n",
    "        msg = MIMEMultipart()\n",
    "        msg[\"From\"] = self.sender_email\n",
    "        msg[\"To\"] = recipient_email\n",
    "        msg[\"Cc\"] = \", \".join(cc_recipients) if cc_recipients else \"\"\n",
    "        msg[\"Subject\"] = subject\n",
    "        msg.attach(MIMEText(body, \"html\"))\n",
    "\n",
    "        if attachments:\n",
    "            for file_path in attachments:\n",
    "                with open(file_path, \"rb\") as f:\n",
    "                    attachment = MIMEApplication(f.read(), _subtype=\"xlsx\")\n",
    "                    filename = file_path.split(\"/\")[-1]\n",
    "                    attachment.add_header(\n",
    "                        \"Content-Disposition\", \"attachment\", filename=filename\n",
    "                    )\n",
    "                    msg.attach(attachment)\n",
    "\n",
    "        self.connection.send_message(msg)"
   ]
  },
  {
   "cell_type": "code",
   "execution_count": 6,
   "metadata": {},
   "outputs": [],
   "source": [
    "emails = [\n",
    "    \"alex.soldin@gmail.com\",\n",
    "]\n",
    "# emails = [\n",
    "#     \"alex.soldin@gmail.com\",\n",
    "#     \"natasha.soldin@gmail.com\",\n",
    "#     \"larry@sunriselogistics.net\",\n",
    "# ]"
   ]
  },
  {
   "cell_type": "code",
   "execution_count": 7,
   "metadata": {},
   "outputs": [
    {
     "name": "stderr",
     "output_type": "stream",
     "text": [
      "100%|██████████| 1/1 [00:02<00:00,  2.29s/it]\n"
     ]
    }
   ],
   "source": [
    "with OutlookEmailClient(\n",
    "    sender_email=sender_email, sender_password=sender_password\n",
    ") as client:\n",
    "    for email in tqdm(emails):\n",
    "        client.send_email(\n",
    "            recipient_email=email,\n",
    "            cc_recipients=[],\n",
    "            subject=f\"Frequency Report {datetime.now().strftime('%d %b %Y')}\",\n",
    "            body=\"\"\"\n",
    "            <html>\n",
    "            <head>\n",
    "                <style>\n",
    "                    body {\n",
    "                        font-family: Arial, sans-serif;\n",
    "                        font-size: 14px;\n",
    "                        line-height: 1.6;\n",
    "                        color: #333333;\n",
    "                    }\n",
    "                </style>\n",
    "            </head>\n",
    "            <body>\n",
    "            <p>Dear Recipient,</p>\n",
    "\n",
    "            <p>I hope this email finds you well. Please find attached your Frequency Report for review.</p>\n",
    "\n",
    "            <p>This automated report contains:</p>\n",
    "            <ul>\n",
    "                <li>Current deliveries</li>\n",
    "                <li>Completed deliveries</li>\n",
    "            </ul>\n",
    "\n",
    "            <p>For additional information, please visit our <a href=\"https://www.sunriselogistics.net/\">website</a>.</p>\n",
    "\n",
    "            <p>If you have any questions or need clarification about the contents of this report, please don't hesitate to reach out.</p>\n",
    "\n",
    "            <p>Best regards,<br>\n",
    "            </body>\n",
    "            </html>\n",
    "            \"\"\",\n",
    "            attachments=[\"../assets/frequency_report_template.xlsx\"],\n",
    "        )"
   ]
  }
 ],
 "metadata": {
  "kernelspec": {
   "display_name": ".venv",
   "language": "python",
   "name": "python3"
  },
  "language_info": {
   "codemirror_mode": {
    "name": "ipython",
    "version": 3
   },
   "file_extension": ".py",
   "mimetype": "text/x-python",
   "name": "python",
   "nbconvert_exporter": "python",
   "pygments_lexer": "ipython3",
   "version": "3.13.0"
  }
 },
 "nbformat": 4,
 "nbformat_minor": 2
}
